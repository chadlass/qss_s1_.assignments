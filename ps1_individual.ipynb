{
 "cells": [
  {
   "cell_type": "code",
   "execution_count": 2,
   "id": "innovative-literature",
   "metadata": {},
   "outputs": [],
   "source": [
    "## imports\n",
    "import pandas as pd\n",
    "import numpy as np\n",
    "import plotnine as p9\n",
    "from plotnine import *\n",
    "import random\n",
    "\n",
    "## print multiple things from same cell\n",
    "from IPython.core.interactiveshell import InteractiveShell\n",
    "InteractiveShell.ast_node_interactivity = \"all\"\n"
   ]
  },
  {
   "cell_type": "code",
   "execution_count": 3,
   "id": "private-might",
   "metadata": {},
   "outputs": [],
   "source": [
    "data = pd.read_pickle(\"sentencing_cleaned.pkl\")"
   ]
  },
  {
   "cell_type": "code",
   "execution_count": 22,
   "id": "liked-blackjack",
   "metadata": {},
   "outputs": [
    {
     "data": {
      "text/plain": [
       "array(['Year(s)', 'Natural Life', 'Months', 'Days', 'Weeks', 'Hours'],\n",
       "      dtype=object)"
      ]
     },
     "execution_count": 22,
     "metadata": {},
     "output_type": "execute_result"
    },
    {
     "data": {
      "text/plain": [
       "9     22630.0\n",
       "16    25550.0\n",
       "28     3650.0\n",
       "32     7300.0\n",
       "36    16425.0\n",
       "Name: senlength_derived, dtype: float64"
      ]
     },
     "execution_count": 22,
     "metadata": {},
     "output_type": "execute_result"
    },
    {
     "data": {
      "text/plain": [
       "count     58289.000000\n",
       "mean       1396.720826\n",
       "std        2062.874778\n",
       "min           0.000000\n",
       "25%         366.000000\n",
       "50%         915.000000\n",
       "75%        1460.000000\n",
       "max      147825.000000\n",
       "Name: senlength_derived, dtype: float64"
      ]
     },
     "execution_count": 22,
     "metadata": {},
     "output_type": "execute_result"
    }
   ],
   "source": [
    "#3.1\n",
    "\n",
    "#Filter to Incarceration and remove non-useful sentences\n",
    "fs_df = data[data.COMMITMENT_TYPE == \"Illinois Department of Corrections\"]\n",
    "\n",
    "fs_df = fs_df[(fs_df.COMMITMENT_UNIT != \"Dollars\") & (fs_df.COMMITMENT_UNIT != \"Pounds\") & (fs_df.COMMITMENT_UNIT != \"Term\")]\n",
    "fs_df.COMMITMENT_UNIT.unique()\n",
    "\n",
    "#filter down for race\n",
    "fs_df = fs_df[(fs_df.is_white_derived == True) | (fs_df.is_black_derived == True)]\n",
    "\n",
    "#make commitment term a float so that you can multiply it to get universal sentence lengths\n",
    "fs_df.COMMITMENT_TERM = pd.to_numeric(fs_df.COMMITMENT_TERM, downcast = \"float\")\n",
    "\n",
    "sentence_translations = [fs_df.COMMITMENT_UNIT == \"Year(s)\",\n",
    "                        fs_df.COMMITMENT_UNIT == \"Natural Life\",\n",
    "                        fs_df.COMMITMENT_UNIT == \"Months\",\n",
    "                        fs_df.COMMITMENT_UNIT == \"Days\",\n",
    "                        fs_df.COMMITMENT_UNIT == \"Weeks\",\n",
    "                        fs_df.COMMITMENT_UNIT == \"Hours\"]\n",
    "\n",
    "code_to = [fs_df.COMMITMENT_TERM*365, 365*(100 - fs_df.age_derived), fs_df.COMMITMENT_TERM*30.5,\n",
    "           fs_df.COMMITMENT_TERM*1, fs_df.COMMITMENT_TERM*7,\n",
    "           fs_df.COMMITMENT_TERM*(1/24)]\n",
    "\n",
    "fs_df[\"senlength_derived\"] = np.select(sentence_translations, code_to, default = 20*365)\n",
    "fs_df.senlength_derived.head()\n",
    "fs_df.senlength_derived.describe()"
   ]
  },
  {
   "cell_type": "code",
   "execution_count": 5,
   "id": "hungarian-exploration",
   "metadata": {},
   "outputs": [
    {
     "data": {
      "text/plain": [
       "15"
      ]
     },
     "execution_count": 5,
     "metadata": {},
     "output_type": "execute_result"
    },
    {
     "name": "stdout",
     "output_type": "stream",
     "text": [
      "   judgeid_derived         variable   value\n",
      "0        judge_133  black_senlength   488.0\n",
      "1        judge_166  black_senlength   365.0\n",
      "2        judge_177  black_senlength   730.0\n",
      "3         judge_20  black_senlength   730.0\n",
      "4         judge_21  black_senlength  1460.0\n",
      "5        judge_279  black_senlength   365.0\n",
      "6        judge_320  black_senlength   730.0\n",
      "7        judge_334  black_senlength   730.0\n",
      "8         judge_35  black_senlength   549.0\n",
      "9         judge_36  black_senlength   730.0\n",
      "10        judge_41  black_senlength   365.0\n",
      "11       judge_133  white_senlength   365.0\n",
      "12       judge_166  white_senlength   365.0\n",
      "13       judge_177  white_senlength   365.0\n",
      "14        judge_20  white_senlength   365.0\n",
      "15        judge_21  white_senlength   730.0\n",
      "16       judge_279  white_senlength   365.0\n",
      "17       judge_320  white_senlength  1095.0\n",
      "18       judge_334  white_senlength   365.0\n",
      "19        judge_35  white_senlength   671.0\n",
      "20        judge_36  white_senlength   457.5\n",
      "21        judge_41  white_senlength   365.0\n"
     ]
    },
    {
     "data": {
      "image/png": "[encoded data removed]",
      "text/plain": [
       "<Figure size 640x480 with 1 Axes>"
      ]
     },
     "metadata": {},
     "output_type": "display_data"
    },
    {
     "data": {
      "text/plain": [
       "<ggplot: (8784175571318)>"
      ]
     },
     "execution_count": 5,
     "metadata": {},
     "output_type": "execute_result"
    }
   ],
   "source": [
    "#3.2\n",
    "\n",
    "fs_df2 = fs_df.reset_index()\n",
    "fs_df2 = fs_df2[fs_df2.simplified_offense_derived == \"Narcotics\"].reset_index()\n",
    "#fs_df2.simplified_offense_derived.unique()\n",
    "fs_dfb = fs_df2[fs_df2.is_black_derived == True]\n",
    "fs_dfw = fs_df2[fs_df2.is_white_derived == True]\n",
    "\n",
    "#find all judges who have presided over 20 narcotics cases involving black defendants\n",
    "fs_dfb2 = fs_dfb.groupby(\"judgeid_derived\")[\"is_black_derived\"].count().reset_index()\n",
    "fs_dfb2.columns = [\"judgeid_derived\", \"cases_presided\"]\n",
    "fs_dfb2 = fs_dfb2[fs_dfb2.cases_presided >= 20]\n",
    "bp_list = fs_dfb2.judgeid_derived.unique().tolist()\n",
    "#fs_dfb2.head()\n",
    "#fs_dfb2.cases_presided.describe()\n",
    "\n",
    "#find all judges who have presided over 20 narcotics cases involving white defendants\n",
    "fs_dfw2 = fs_dfw.groupby(\"judgeid_derived\")[\"is_white_derived\"].count().reset_index()\n",
    "fs_dfw2.columns = [\"judgeid_derived\", \"cases_presided\"]\n",
    "fs_dfw2 = fs_dfw2[fs_dfw2.cases_presided >= 20]\n",
    "wp_list = fs_dfw2.judgeid_derived.unique().tolist()\n",
    "#print(wp_list)\n",
    "#fs_dfw2.head()\n",
    "#fs_dfw2.cases_presided.describe()\n",
    "len(wp_list)\n",
    "\n",
    "#get a combined list of judges without duplicates\n",
    "set_1 = set(wp_list)\n",
    "set_2 = set(bp_list)\n",
    "set_3 = set_1 & set_2\n",
    "judges_list = list(set_3)\n",
    "\n",
    "\n",
    "#using new judges list, get list of avg senlength by judge for black defendants\n",
    "fs_dfbj = fs_dfb[fs_dfb.judgeid_derived.isin(judges_list)]\n",
    "#fs_dfbj.SENTENCE_JUDGE.nunique()\n",
    "fs_dfbj = fs_dfbj.groupby(\"judgeid_derived\").agg({\"senlength_derived\": \"median\"}).reset_index()\n",
    "fs_dfbj.columns = [\"judgeid_derived\", \"black_senlength\"]\n",
    "#print(fs_dfbj)\n",
    "\n",
    "#Repeat Process for White Defendants\n",
    "fs_dfwj = fs_dfw[fs_dfw.judgeid_derived.isin(judges_list)]\n",
    "#fs_dfwj.SENTENCE_JUDGE.nunique()\n",
    "fs_dfwj = fs_dfwj.groupby(\"judgeid_derived\").agg({\"senlength_derived\": \"median\"}).reset_index()\n",
    "fs_dfwj.columns = [\"judgeid_derived\", \"white_senlength\"]\n",
    "#print(fs_dfwj)\n",
    "\n",
    "#Merge two dataframes so they can be graphed\n",
    "merged_sens = pd.merge(fs_dfbj, fs_dfwj, on = \"judgeid_derived\")\n",
    "#print(merged_sens)\n",
    "merge_melt = pd.melt(merged_sens, id_vars = [\"judgeid_derived\"],\n",
    "                     value_vars = [\"black_senlength\", \"white_senlength\"])\n",
    "print(merge_melt)\n",
    "\n",
    "(p9.ggplot(data = merge_melt, mapping = p9.aes(x = \"judgeid_derived\", y = \"value\", fill = \"variable\"))) + geom_col(position = \"dodge\")\n",
    "\n"
   ]
  },
  {
   "cell_type": "code",
   "execution_count": 13,
   "id": "english-genre",
   "metadata": {},
   "outputs": [
    {
     "data": {
      "text/plain": [
       "1"
      ]
     },
     "execution_count": 13,
     "metadata": {},
     "output_type": "execute_result"
    }
   ],
   "source": [
    "new_d1 = data[data.COMMITMENT_TYPE == \"Illinois Department of Corrections\"].reset_index()\n",
    "new_d1 = new_d1[new_d1.simplified_offense_derived == \"Narcotics\"].reset_index()\n",
    "fs_dftw = new_d1[new_d1.judgeid_derived == \"judge_21\"]\n",
    "fs_dftw.judgeid_derived.nunique()\n",
    "fs_dftwn = fs_dftw.copy()"
   ]
  },
  {
   "cell_type": "code",
   "execution_count": 29,
   "id": "reported-discount",
   "metadata": {},
   "outputs": [
    {
     "data": {
      "text/html": [
       "<div>\n",
       "<style scoped>\n",
       "    .dataframe tbody tr th:only-of-type {\n",
       "        vertical-align: middle;\n",
       "    }\n",
       "\n",
       "    .dataframe tbody tr th {\n",
       "        vertical-align: top;\n",
       "    }\n",
       "\n",
       "    .dataframe thead th {\n",
       "        text-align: right;\n",
       "    }\n",
       "</style>\n",
       "<table border=\"1\" class=\"dataframe\">\n",
       "  <thead>\n",
       "    <tr style=\"text-align: right;\">\n",
       "      <th></th>\n",
       "      <th></th>\n",
       "      <th>CASE_ID</th>\n",
       "      <th>RACE</th>\n",
       "      <th>target_def_age</th>\n",
       "      <th>GENDER</th>\n",
       "    </tr>\n",
       "  </thead>\n",
       "  <tbody>\n",
       "    <tr>\n",
       "      <th rowspan=\"2\" valign=\"top\">213700128228</th>\n",
       "      <th>8751</th>\n",
       "      <td>404703573213</td>\n",
       "      <td>White [Hispanic or Latino]</td>\n",
       "      <td>21.0</td>\n",
       "      <td>Male</td>\n",
       "    </tr>\n",
       "    <tr>\n",
       "      <th>9354</th>\n",
       "      <td>406322205406</td>\n",
       "      <td>Black</td>\n",
       "      <td>21.0</td>\n",
       "      <td>Male</td>\n",
       "    </tr>\n",
       "    <tr>\n",
       "      <th rowspan=\"3\" valign=\"top\">386294899533</th>\n",
       "      <th>6876</th>\n",
       "      <td>399913908091</td>\n",
       "      <td>White</td>\n",
       "      <td>29.0</td>\n",
       "      <td>Male</td>\n",
       "    </tr>\n",
       "    <tr>\n",
       "      <th>10695</th>\n",
       "      <td>409877997576</td>\n",
       "      <td>White</td>\n",
       "      <td>29.0</td>\n",
       "      <td>Male</td>\n",
       "    </tr>\n",
       "    <tr>\n",
       "      <th>12268</th>\n",
       "      <td>414327840987</td>\n",
       "      <td>Black</td>\n",
       "      <td>29.0</td>\n",
       "      <td>Male</td>\n",
       "    </tr>\n",
       "  </tbody>\n",
       "</table>\n",
       "</div>"
      ],
      "text/plain": [
       "                         CASE_ID                        RACE  target_def_age  \\\n",
       "213700128228 8751   404703573213  White [Hispanic or Latino]            21.0   \n",
       "             9354   406322205406                       Black            21.0   \n",
       "386294899533 6876   399913908091                       White            29.0   \n",
       "             10695  409877997576                       White            29.0   \n",
       "             12268  414327840987                       Black            29.0   \n",
       "\n",
       "                   GENDER  \n",
       "213700128228 8751    Male  \n",
       "             9354    Male  \n",
       "386294899533 6876    Male  \n",
       "             10695   Male  \n",
       "             12268   Male  "
      ]
     },
     "execution_count": 29,
     "metadata": {},
     "output_type": "execute_result"
    },
    {
     "ename": "ValueError",
     "evalue": "Can only compare identically-labeled Series objects",
     "output_type": "error",
     "traceback": [
      "\u001b[0;31m---------------------------------------------------------------------------\u001b[0m",
      "\u001b[0;31mValueError\u001b[0m                                Traceback (most recent call last)",
      "\u001b[0;32m<ipython-input-29-9948435f4a22>\u001b[0m in \u001b[0;36m<module>\u001b[0;34m\u001b[0m\n\u001b[1;32m     25\u001b[0m \u001b[0mnew_fs\u001b[0m \u001b[0;34m=\u001b[0m \u001b[0mfs_df\u001b[0m\u001b[0;34m.\u001b[0m\u001b[0mloc\u001b[0m\u001b[0;34m[\u001b[0m\u001b[0;34m:\u001b[0m\u001b[0;34m,\u001b[0m \u001b[0;34m(\u001b[0m\u001b[0;34m\"CASE_ID\"\u001b[0m\u001b[0;34m,\u001b[0m \u001b[0;34m\"senlength_derived\"\u001b[0m\u001b[0;34m)\u001b[0m\u001b[0;34m]\u001b[0m\u001b[0;34m\u001b[0m\u001b[0;34m\u001b[0m\u001b[0m\n\u001b[1;32m     26\u001b[0m \u001b[0mnew_fs\u001b[0m \u001b[0;34m=\u001b[0m \u001b[0mnew_fs\u001b[0m\u001b[0;34m[\u001b[0m\u001b[0mnew_fs\u001b[0m\u001b[0;34m.\u001b[0m\u001b[0mCASE_ID\u001b[0m\u001b[0;34m.\u001b[0m\u001b[0misin\u001b[0m\u001b[0;34m(\u001b[0m\u001b[0mall_matches\u001b[0m\u001b[0;34m.\u001b[0m\u001b[0mCASE_ID\u001b[0m\u001b[0;34m)\u001b[0m\u001b[0;34m]\u001b[0m\u001b[0;34m\u001b[0m\u001b[0;34m\u001b[0m\u001b[0m\n\u001b[0;32m---> 27\u001b[0;31m \u001b[0mall_matches\u001b[0m\u001b[0;34m[\u001b[0m\u001b[0;34m\"senlength_derived\"\u001b[0m\u001b[0;34m]\u001b[0m \u001b[0;34m=\u001b[0m \u001b[0mnew_fs\u001b[0m\u001b[0;34m[\u001b[0m\u001b[0;34m(\u001b[0m\u001b[0mnew_fs\u001b[0m\u001b[0;34m.\u001b[0m\u001b[0mCASE_ID\u001b[0m \u001b[0;34m==\u001b[0m \u001b[0mall_matches\u001b[0m\u001b[0;34m.\u001b[0m\u001b[0mCASE_ID\u001b[0m\u001b[0;34m)\u001b[0m\u001b[0;34m]\u001b[0m\u001b[0;34m.\u001b[0m\u001b[0msenlength_derived\u001b[0m\u001b[0;34m\u001b[0m\u001b[0;34m\u001b[0m\u001b[0m\n\u001b[0m\u001b[1;32m     28\u001b[0m \u001b[0;34m\u001b[0m\u001b[0m\n\u001b[1;32m     29\u001b[0m \u001b[0;34m\u001b[0m\u001b[0m\n",
      "\u001b[0;32m/opt/conda/lib/python3.8/site-packages/pandas/core/ops/common.py\u001b[0m in \u001b[0;36mnew_method\u001b[0;34m(self, other)\u001b[0m\n\u001b[1;32m     63\u001b[0m         \u001b[0mother\u001b[0m \u001b[0;34m=\u001b[0m \u001b[0mitem_from_zerodim\u001b[0m\u001b[0;34m(\u001b[0m\u001b[0mother\u001b[0m\u001b[0;34m)\u001b[0m\u001b[0;34m\u001b[0m\u001b[0;34m\u001b[0m\u001b[0m\n\u001b[1;32m     64\u001b[0m \u001b[0;34m\u001b[0m\u001b[0m\n\u001b[0;32m---> 65\u001b[0;31m         \u001b[0;32mreturn\u001b[0m \u001b[0mmethod\u001b[0m\u001b[0;34m(\u001b[0m\u001b[0mself\u001b[0m\u001b[0;34m,\u001b[0m \u001b[0mother\u001b[0m\u001b[0;34m)\u001b[0m\u001b[0;34m\u001b[0m\u001b[0;34m\u001b[0m\u001b[0m\n\u001b[0m\u001b[1;32m     66\u001b[0m \u001b[0;34m\u001b[0m\u001b[0m\n\u001b[1;32m     67\u001b[0m     \u001b[0;32mreturn\u001b[0m \u001b[0mnew_method\u001b[0m\u001b[0;34m\u001b[0m\u001b[0;34m\u001b[0m\u001b[0m\n",
      "\u001b[0;32m/opt/conda/lib/python3.8/site-packages/pandas/core/arraylike.py\u001b[0m in \u001b[0;36m__eq__\u001b[0;34m(self, other)\u001b[0m\n\u001b[1;32m     27\u001b[0m     \u001b[0;34m@\u001b[0m\u001b[0munpack_zerodim_and_defer\u001b[0m\u001b[0;34m(\u001b[0m\u001b[0;34m\"__eq__\"\u001b[0m\u001b[0;34m)\u001b[0m\u001b[0;34m\u001b[0m\u001b[0;34m\u001b[0m\u001b[0m\n\u001b[1;32m     28\u001b[0m     \u001b[0;32mdef\u001b[0m \u001b[0m__eq__\u001b[0m\u001b[0;34m(\u001b[0m\u001b[0mself\u001b[0m\u001b[0;34m,\u001b[0m \u001b[0mother\u001b[0m\u001b[0;34m)\u001b[0m\u001b[0;34m:\u001b[0m\u001b[0;34m\u001b[0m\u001b[0;34m\u001b[0m\u001b[0m\n\u001b[0;32m---> 29\u001b[0;31m         \u001b[0;32mreturn\u001b[0m \u001b[0mself\u001b[0m\u001b[0;34m.\u001b[0m\u001b[0m_cmp_method\u001b[0m\u001b[0;34m(\u001b[0m\u001b[0mother\u001b[0m\u001b[0;34m,\u001b[0m \u001b[0moperator\u001b[0m\u001b[0;34m.\u001b[0m\u001b[0meq\u001b[0m\u001b[0;34m)\u001b[0m\u001b[0;34m\u001b[0m\u001b[0;34m\u001b[0m\u001b[0m\n\u001b[0m\u001b[1;32m     30\u001b[0m \u001b[0;34m\u001b[0m\u001b[0m\n\u001b[1;32m     31\u001b[0m     \u001b[0;34m@\u001b[0m\u001b[0munpack_zerodim_and_defer\u001b[0m\u001b[0;34m(\u001b[0m\u001b[0;34m\"__ne__\"\u001b[0m\u001b[0;34m)\u001b[0m\u001b[0;34m\u001b[0m\u001b[0;34m\u001b[0m\u001b[0m\n",
      "\u001b[0;32m/opt/conda/lib/python3.8/site-packages/pandas/core/series.py\u001b[0m in \u001b[0;36m_cmp_method\u001b[0;34m(self, other, op)\u001b[0m\n\u001b[1;32m   4971\u001b[0m \u001b[0;34m\u001b[0m\u001b[0m\n\u001b[1;32m   4972\u001b[0m         \u001b[0;32mif\u001b[0m \u001b[0misinstance\u001b[0m\u001b[0;34m(\u001b[0m\u001b[0mother\u001b[0m\u001b[0;34m,\u001b[0m \u001b[0mSeries\u001b[0m\u001b[0;34m)\u001b[0m \u001b[0;32mand\u001b[0m \u001b[0;32mnot\u001b[0m \u001b[0mself\u001b[0m\u001b[0;34m.\u001b[0m\u001b[0m_indexed_same\u001b[0m\u001b[0;34m(\u001b[0m\u001b[0mother\u001b[0m\u001b[0;34m)\u001b[0m\u001b[0;34m:\u001b[0m\u001b[0;34m\u001b[0m\u001b[0;34m\u001b[0m\u001b[0m\n\u001b[0;32m-> 4973\u001b[0;31m             \u001b[0;32mraise\u001b[0m \u001b[0mValueError\u001b[0m\u001b[0;34m(\u001b[0m\u001b[0;34m\"Can only compare identically-labeled Series objects\"\u001b[0m\u001b[0;34m)\u001b[0m\u001b[0;34m\u001b[0m\u001b[0;34m\u001b[0m\u001b[0m\n\u001b[0m\u001b[1;32m   4974\u001b[0m \u001b[0;34m\u001b[0m\u001b[0m\n\u001b[1;32m   4975\u001b[0m         \u001b[0mlvalues\u001b[0m \u001b[0;34m=\u001b[0m \u001b[0mextract_array\u001b[0m\u001b[0;34m(\u001b[0m\u001b[0mself\u001b[0m\u001b[0;34m,\u001b[0m \u001b[0mextract_numpy\u001b[0m\u001b[0;34m=\u001b[0m\u001b[0;32mTrue\u001b[0m\u001b[0;34m)\u001b[0m\u001b[0;34m\u001b[0m\u001b[0;34m\u001b[0m\u001b[0m\n",
      "\u001b[0;31mValueError\u001b[0m: Can only compare identically-labeled Series objects"
     ]
    }
   ],
   "source": [
    "\n",
    "store_matches = {}\n",
    "\n",
    "for i in range(0, fs_dftw.shape[0]):\n",
    "    \n",
    "    target_row = fs_dftw.iloc[i]\n",
    "    \n",
    "    matches = fs_dftwn[(fs_dftwn.RACE != target_row.RACE) & \n",
    "                       (fs_dftwn.GENDER == target_row.GENDER) &\n",
    "                       (fs_dftwn.age_derived == target_row.age_derived)] \n",
    "    \n",
    "    \n",
    "    composite = matches.copy()\n",
    "    composite['target_def_age'] = target_row.age_derived\n",
    "    store_matches[target_row.CASE_ID] = composite\n",
    "    #print(target_row.CASE_ID)\n",
    "all_matches = pd.concat(store_matches)    \n",
    "## loc out columns I want and clean frame\n",
    "\n",
    "all_matches = all_matches.loc[:, (\"CASE_ID\", \"RACE\", \"target_def_age\", \"GENDER\")]\n",
    "all_matches.head()\n",
    "\n",
    "##merge dataframe with senlen based on CASEID -- for focal and comp\n",
    "\n",
    "\n",
    "new_fs = fs_df.loc[:, (\"CASE_ID\", \"senlength_derived\")]\n",
    "new_fs = new_fs[new_fs.CASE_ID.isin(all_matches.CASE_ID)]\n",
    "all_matches[\"senlength_derived\"] = new_fs[(new_fs.CASE_ID == all_matches.CASE_ID)].senlength_derived\n",
    "\n",
    "\n",
    "all_matches.head()\n",
    "\n"
   ]
  },
  {
   "cell_type": "code",
   "execution_count": 10,
   "id": "internal-prayer",
   "metadata": {},
   "outputs": [
    {
     "ename": "KeyError",
     "evalue": "'396452543476'",
     "output_type": "error",
     "traceback": [
      "\u001b[0;31m---------------------------------------------------------------------------\u001b[0m",
      "\u001b[0;31mKeyError\u001b[0m                                  Traceback (most recent call last)",
      "\u001b[0;32m<ipython-input-10-8fcb533cdbf8>\u001b[0m in \u001b[0;36m<module>\u001b[0;34m\u001b[0m\n\u001b[0;32m----> 1\u001b[0;31m \u001b[0mprint\u001b[0m\u001b[0;34m(\u001b[0m\u001b[0mstore_matches\u001b[0m\u001b[0;34m[\u001b[0m\u001b[0;34m\"396452543476\"\u001b[0m\u001b[0;34m]\u001b[0m\u001b[0;34m)\u001b[0m\u001b[0;34m\u001b[0m\u001b[0;34m\u001b[0m\u001b[0m\n\u001b[0m",
      "\u001b[0;31mKeyError\u001b[0m: '396452543476'"
     ]
    }
   ],
   "source": []
  },
  {
   "cell_type": "code",
   "execution_count": null,
   "id": "piano-astronomy",
   "metadata": {},
   "outputs": [],
   "source": []
  },
  {
   "cell_type": "code",
   "execution_count": null,
   "id": "printable-stephen",
   "metadata": {},
   "outputs": [],
   "source": []
  }
 ],
 "metadata": {
  "kernelspec": {
   "display_name": "Python 3",
   "language": "python",
   "name": "python3"
  },
  "language_info": {
   "codemirror_mode": {
    "name": "ipython",
    "version": 3
   },
   "file_extension": ".py",
   "mimetype": "text/x-python",
   "name": "python",
   "nbconvert_exporter": "python",
   "pygments_lexer": "ipython3",
   "version": "3.8.8"
  }
 },
 "nbformat": 4,
 "nbformat_minor": 5
}
